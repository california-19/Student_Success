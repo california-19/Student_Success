{
 "cells": [
  {
   "cell_type": "markdown",
   "metadata": {},
   "source": [
    "# Student Achievement Predictor\n",
    "This file does not contain any personally identifiable information. The data file is obviously not included for privacy reasons. But feel free to use the code below."
   ]
  },
  {
   "cell_type": "code",
   "execution_count": 1,
   "metadata": {},
   "outputs": [],
   "source": [
    "import pandas as pd\n",
    "import matplotlib.pyplot as plt"
   ]
  },
  {
   "cell_type": "code",
   "execution_count": 2,
   "metadata": {},
   "outputs": [],
   "source": [
    "file1 = 'StudentData.xlsx'\n",
    "file2 = 'Student_GPA.xlsx'"
   ]
  },
  {
   "cell_type": "code",
   "execution_count": 3,
   "metadata": {},
   "outputs": [],
   "source": [
    "# Let's read the file into a dataframe\n",
    "df_stu = pd.read_excel(file1)\n",
    "df_gpa = pd.read_excel(file2)"
   ]
  },
  {
   "cell_type": "markdown",
   "metadata": {},
   "source": [
    "## Merging Happens Here\n",
    "We merge the students with their GPA's first"
   ]
  },
  {
   "cell_type": "code",
   "execution_count": 4,
   "metadata": {},
   "outputs": [],
   "source": [
    "df_gpa.rename(columns={'Unnamed: 0':'Full name', 'Final':'GPA'}, inplace=True)"
   ]
  },
  {
   "cell_type": "code",
   "execution_count": 5,
   "metadata": {},
   "outputs": [],
   "source": [
    "df = df_stu.merge(df_gpa, on='Full name', how='left')"
   ]
  },
  {
   "cell_type": "markdown",
   "metadata": {},
   "source": [
    "## Stripping Private Information from the data sets"
   ]
  },
  {
   "cell_type": "code",
   "execution_count": 6,
   "metadata": {},
   "outputs": [],
   "source": [
    "# We first have to remove private student data, before displaying anythint\n",
    "df.drop(columns=['Full name', 'First name', 'Middle', 'Last name'], inplace=True)"
   ]
  },
  {
   "cell_type": "code",
   "execution_count": 7,
   "metadata": {},
   "outputs": [
    {
     "data": {
      "text/plain": [
       "0    1001\n",
       "1    1002\n",
       "2    1003\n",
       "3    1004\n",
       "4    1005\n",
       "Name: Student ID, dtype: int64"
      ]
     },
     "execution_count": 7,
     "metadata": {},
     "output_type": "execute_result"
    }
   ],
   "source": [
    "# We should change actual student id's with produced student id's.\n",
    "df.rename(columns={'Student Id (Test Id)':'Student ID'}, inplace=True)\n",
    "df['Student ID'] = range(1001, 1001+len(df))\n",
    "df['Student ID'].head()"
   ]
  },
  {
   "cell_type": "code",
   "execution_count": 8,
   "metadata": {},
   "outputs": [
    {
     "data": {
      "text/plain": [
       "0    2006\n",
       "1    2007\n",
       "2    2007\n",
       "3    2006\n",
       "4    2007\n",
       "Name: Birth date, dtype: int64"
      ]
     },
     "execution_count": 8,
     "metadata": {},
     "output_type": "execute_result"
    }
   ],
   "source": [
    "# The birth date's are also sensitive data. We are OK with the years only.\n",
    "df['Birth date'] = pd.DatetimeIndex(df['Birth date']).year\n",
    "df['Birth date'].head()"
   ]
  },
  {
   "cell_type": "code",
   "execution_count": 9,
   "metadata": {
    "scrolled": true
   },
   "outputs": [
    {
     "data": {
      "text/html": [
       "<div>\n",
       "<style scoped>\n",
       "    .dataframe tbody tr th:only-of-type {\n",
       "        vertical-align: middle;\n",
       "    }\n",
       "\n",
       "    .dataframe tbody tr th {\n",
       "        vertical-align: top;\n",
       "    }\n",
       "\n",
       "    .dataframe thead th {\n",
       "        text-align: right;\n",
       "    }\n",
       "</style>\n",
       "<table border=\"1\" class=\"dataframe\">\n",
       "  <thead>\n",
       "    <tr style=\"text-align: right;\">\n",
       "      <th></th>\n",
       "      <th>Grade</th>\n",
       "      <th>Student ID</th>\n",
       "      <th>Gender</th>\n",
       "      <th>Birth date</th>\n",
       "      <th>Race</th>\n",
       "      <th>Zip</th>\n",
       "      <th>Lunch</th>\n",
       "      <th>ELL?</th>\n",
       "      <th>Idea?</th>\n",
       "      <th>Section 504?</th>\n",
       "      <th>Economic Disadvantage?</th>\n",
       "      <th>Is Homeless?</th>\n",
       "      <th>Is Migrant?</th>\n",
       "      <th>Is Immigrant?</th>\n",
       "      <th>Title1?</th>\n",
       "      <th>Gifted?</th>\n",
       "      <th>Primary Parent Relationship</th>\n",
       "      <th>Secondary Parent Relationship</th>\n",
       "      <th>Dominant Language</th>\n",
       "      <th>GPA</th>\n",
       "    </tr>\n",
       "  </thead>\n",
       "  <tbody>\n",
       "    <tr>\n",
       "      <th>0</th>\n",
       "      <td>9</td>\n",
       "      <td>1001</td>\n",
       "      <td>M</td>\n",
       "      <td>2006</td>\n",
       "      <td>Hispanic/Latino</td>\n",
       "      <td>63116</td>\n",
       "      <td>U</td>\n",
       "      <td>Y</td>\n",
       "      <td>N</td>\n",
       "      <td>U</td>\n",
       "      <td>U</td>\n",
       "      <td>U</td>\n",
       "      <td>U</td>\n",
       "      <td>U</td>\n",
       "      <td>U</td>\n",
       "      <td>NaN</td>\n",
       "      <td>Mother, natural/adoptive</td>\n",
       "      <td>NaN</td>\n",
       "      <td>Spanish</td>\n",
       "      <td>NaN</td>\n",
       "    </tr>\n",
       "    <tr>\n",
       "      <th>1</th>\n",
       "      <td>9</td>\n",
       "      <td>1002</td>\n",
       "      <td>F</td>\n",
       "      <td>2007</td>\n",
       "      <td>Black or African American</td>\n",
       "      <td>63106</td>\n",
       "      <td>F</td>\n",
       "      <td>MY2</td>\n",
       "      <td>U</td>\n",
       "      <td>U</td>\n",
       "      <td>U</td>\n",
       "      <td>U</td>\n",
       "      <td>U</td>\n",
       "      <td>U</td>\n",
       "      <td>U</td>\n",
       "      <td>U</td>\n",
       "      <td>Mother, natural/adoptive</td>\n",
       "      <td>Father, natural/adoptive</td>\n",
       "      <td>Somali</td>\n",
       "      <td>2.98</td>\n",
       "    </tr>\n",
       "    <tr>\n",
       "      <th>2</th>\n",
       "      <td>9</td>\n",
       "      <td>1003</td>\n",
       "      <td>M</td>\n",
       "      <td>2007</td>\n",
       "      <td>White</td>\n",
       "      <td>63109</td>\n",
       "      <td>U</td>\n",
       "      <td>N</td>\n",
       "      <td>N</td>\n",
       "      <td>U</td>\n",
       "      <td>U</td>\n",
       "      <td>U</td>\n",
       "      <td>U</td>\n",
       "      <td>U</td>\n",
       "      <td>U</td>\n",
       "      <td>NaN</td>\n",
       "      <td>Father, natural/adoptive</td>\n",
       "      <td>Mother, natural/adoptive</td>\n",
       "      <td>Arabic</td>\n",
       "      <td>NaN</td>\n",
       "    </tr>\n",
       "    <tr>\n",
       "      <th>3</th>\n",
       "      <td>9</td>\n",
       "      <td>1004</td>\n",
       "      <td>M</td>\n",
       "      <td>2006</td>\n",
       "      <td>Black or African American</td>\n",
       "      <td>63116</td>\n",
       "      <td>U</td>\n",
       "      <td>N</td>\n",
       "      <td>Y</td>\n",
       "      <td>U</td>\n",
       "      <td>U</td>\n",
       "      <td>U</td>\n",
       "      <td>U</td>\n",
       "      <td>U</td>\n",
       "      <td>U</td>\n",
       "      <td>NaN</td>\n",
       "      <td>Mother, natural/adoptive</td>\n",
       "      <td>NaN</td>\n",
       "      <td>English</td>\n",
       "      <td>NaN</td>\n",
       "    </tr>\n",
       "    <tr>\n",
       "      <th>4</th>\n",
       "      <td>8</td>\n",
       "      <td>1005</td>\n",
       "      <td>M</td>\n",
       "      <td>2007</td>\n",
       "      <td>White</td>\n",
       "      <td>63109</td>\n",
       "      <td>U</td>\n",
       "      <td>N</td>\n",
       "      <td>N</td>\n",
       "      <td>U</td>\n",
       "      <td>U</td>\n",
       "      <td>U</td>\n",
       "      <td>U</td>\n",
       "      <td>U</td>\n",
       "      <td>U</td>\n",
       "      <td>NaN</td>\n",
       "      <td>Mother, natural/adoptive</td>\n",
       "      <td>Father, step</td>\n",
       "      <td>English</td>\n",
       "      <td>NaN</td>\n",
       "    </tr>\n",
       "  </tbody>\n",
       "</table>\n",
       "</div>"
      ],
      "text/plain": [
       "   Grade  Student ID Gender  Birth date                       Race    Zip  \\\n",
       "0      9        1001      M        2006            Hispanic/Latino  63116   \n",
       "1      9        1002      F        2007  Black or African American  63106   \n",
       "2      9        1003      M        2007                      White  63109   \n",
       "3      9        1004      M        2006  Black or African American  63116   \n",
       "4      8        1005      M        2007                      White  63109   \n",
       "\n",
       "  Lunch ELL? Idea? Section 504? Economic Disadvantage? Is Homeless?  \\\n",
       "0     U    Y     N            U                      U            U   \n",
       "1     F  MY2     U            U                      U            U   \n",
       "2     U    N     N            U                      U            U   \n",
       "3     U    N     Y            U                      U            U   \n",
       "4     U    N     N            U                      U            U   \n",
       "\n",
       "  Is Migrant? Is Immigrant? Title1? Gifted? Primary Parent Relationship  \\\n",
       "0           U             U       U     NaN    Mother, natural/adoptive   \n",
       "1           U             U       U       U    Mother, natural/adoptive   \n",
       "2           U             U       U     NaN    Father, natural/adoptive   \n",
       "3           U             U       U     NaN    Mother, natural/adoptive   \n",
       "4           U             U       U     NaN    Mother, natural/adoptive   \n",
       "\n",
       "  Secondary Parent Relationship Dominant Language   GPA  \n",
       "0                           NaN           Spanish   NaN  \n",
       "1      Father, natural/adoptive            Somali  2.98  \n",
       "2      Mother, natural/adoptive            Arabic   NaN  \n",
       "3                           NaN           English   NaN  \n",
       "4                  Father, step           English   NaN  "
      ]
     },
     "execution_count": 9,
     "metadata": {},
     "output_type": "execute_result"
    }
   ],
   "source": [
    "# We now removed all the uniquely identifying information from our dataset, without losing any predicting information.\n",
    "df.head()"
   ]
  },
  {
   "cell_type": "code",
   "execution_count": 10,
   "metadata": {},
   "outputs": [
    {
     "data": {
      "text/plain": [
       "(817, 20)"
      ]
     },
     "execution_count": 10,
     "metadata": {},
     "output_type": "execute_result"
    }
   ],
   "source": [
    "df.shape"
   ]
  },
  {
   "cell_type": "markdown",
   "metadata": {},
   "source": [
    "### Dropping some columns"
   ]
  },
  {
   "cell_type": "code",
   "execution_count": 11,
   "metadata": {},
   "outputs": [
    {
     "name": "stdout",
     "output_type": "stream",
     "text": [
      "N    483\n",
      "U    331\n",
      "Y      3\n",
      "Name: Is Immigrant?, dtype: int64\n",
      "N    483\n",
      "U    334\n",
      "Name: Is Migrant?, dtype: int64\n"
     ]
    }
   ],
   "source": [
    "print(df['Is Immigrant?'].value_counts())\n",
    "print(df['Is Migrant?'].value_counts())"
   ]
  },
  {
   "cell_type": "markdown",
   "metadata": {},
   "source": [
    "There are too many unknown answers (U is for unknown) in the features about migration. Therefore, I'm droping them."
   ]
  },
  {
   "cell_type": "code",
   "execution_count": 12,
   "metadata": {},
   "outputs": [
    {
     "data": {
      "text/plain": [
       "N       542\n",
       "U        98\n",
       "Y         2\n",
       "Math      1\n",
       "Name: Gifted?, dtype: int64"
      ]
     },
     "execution_count": 12,
     "metadata": {},
     "output_type": "execute_result"
    }
   ],
   "source": [
    "df['Gifted?'].value_counts()"
   ]
  },
  {
   "cell_type": "markdown",
   "metadata": {},
   "source": [
    "There are only 2 officially gifted students and many unknowns. This variable is not going to be helpful in making predictios. Therefore, I decided to take it out."
   ]
  },
  {
   "cell_type": "code",
   "execution_count": 13,
   "metadata": {},
   "outputs": [
    {
     "name": "stdout",
     "output_type": "stream",
     "text": [
      "     Grade  Student ID Gender  Birth date   Race    Zip Lunch ELL? Idea?  \\\n",
      "43      11        1044      M        2005  White  63116     P    N     N   \n",
      "214     10        1215      M        2006  White  63123     F  MY2     N   \n",
      "\n",
      "    Section 504? Economic Disadvantage? Is Homeless? Is Migrant?  \\\n",
      "43             N                      U            N           U   \n",
      "214            N                      N            N           N   \n",
      "\n",
      "    Is Immigrant? Title1? Gifted? Primary Parent Relationship  \\\n",
      "43              U       Y       Y    Mother, natural/adoptive   \n",
      "214             Y       Y       Y    Mother, natural/adoptive   \n",
      "\n",
      "    Secondary Parent Relationship Dominant Language   GPA  \n",
      "43       Father, natural/adoptive           English  4.58  \n",
      "214      Father, natural/adoptive           Turkish  4.46  \n",
      "     Grade  Student ID Gender  Birth date   Race    Zip Lunch ELL? Idea?  \\\n",
      "385     11        1386      M        2005  White  63123     P  RCV     N   \n",
      "\n",
      "    Section 504? Economic Disadvantage? Is Homeless? Is Migrant?  \\\n",
      "385            N                      N            N           N   \n",
      "\n",
      "    Is Immigrant? Title1? Gifted? Primary Parent Relationship  \\\n",
      "385             N       Y    Math    Father, natural/adoptive   \n",
      "\n",
      "    Secondary Parent Relationship Dominant Language   GPA  \n",
      "385      Mother, natural/adoptive           Turkish  3.83  \n"
     ]
    }
   ],
   "source": [
    "# But, before removing these variables, let's see who these students are:\n",
    "filt_gifted = df['Gifted?'] == 'Y'\n",
    "filt_math = df['Gifted?'] == 'Math'\n",
    "print(df[filt_gifted])\n",
    "print(df[filt_math])"
   ]
  },
  {
   "cell_type": "code",
   "execution_count": 14,
   "metadata": {},
   "outputs": [
    {
     "data": {
      "text/plain": [
       "Father, natural/adoptive      403\n",
       "NaN                           208\n",
       "Mother, natural/adoptive      133\n",
       "Father, step                   20\n",
       "Grandmother                    14\n",
       "Aunt                            7\n",
       "Mother, step                    7\n",
       "Father, foster                  6\n",
       "Uncle                           5\n",
       "Grandfather                     4\n",
       "Other                           2\n",
       "Son                             2\n",
       "Family member                   1\n",
       "Sister, natural/adoptive        1\n",
       "Fiancé                          1\n",
       "Friend                          1\n",
       "Brother-in-law                  1\n",
       "Mother's significant other      1\n",
       "Name: Secondary Parent Relationship, dtype: int64"
      ]
     },
     "execution_count": 14,
     "metadata": {},
     "output_type": "execute_result"
    }
   ],
   "source": [
    "df['Secondary Parent Relationship'].value_counts(dropna=False)"
   ]
  },
  {
   "cell_type": "markdown",
   "metadata": {},
   "source": [
    "We have primary parent relationship that will provide information on family status. Therefore, we can drop secondary parent relationship which already has many NaN values anyway. It would be really nice if we could have this info but we are missing this data"
   ]
  },
  {
   "cell_type": "code",
   "execution_count": 15,
   "metadata": {},
   "outputs": [],
   "source": [
    "# Now we can drop these columns\n",
    "df.drop(columns=['Is Migrant?', 'Is Immigrant?', 'Gifted?', 'Secondary Parent Relationship'], inplace=True)"
   ]
  },
  {
   "cell_type": "markdown",
   "metadata": {},
   "source": [
    "### Deciding on other variables"
   ]
  },
  {
   "cell_type": "code",
   "execution_count": 16,
   "metadata": {},
   "outputs": [
    {
     "data": {
      "text/plain": [
       "N      518\n",
       "RCV     63\n",
       "U       59\n",
       "MY2     13\n",
       "Y       10\n",
       "MY1      8\n",
       "AY3      5\n",
       "M        3\n",
       "AY4      1\n",
       "Name: ELL?, dtype: int64"
      ]
     },
     "execution_count": 16,
     "metadata": {},
     "output_type": "execute_result"
    }
   ],
   "source": [
    "df['ELL?'].value_counts()"
   ]
  },
  {
   "cell_type": "markdown",
   "metadata": {},
   "source": [
    "NLP: Not English Learner\n",
    "MY1: 1st year monitoring\n",
    "MY2: 2nd year monitoring\n",
    "AY3: 3rd year accountability\n",
    "AY4: 4th year accountability\n",
    "RCV: receiving services\n",
    "U: Unknown\n",
    "\n",
    "There are 59 unknown entries. I will change them to none. Usually, people make an entry if the student needs services."
   ]
  },
  {
   "cell_type": "code",
   "execution_count": 17,
   "metadata": {},
   "outputs": [
    {
     "data": {
      "text/html": [
       "<div>\n",
       "<style scoped>\n",
       "    .dataframe tbody tr th:only-of-type {\n",
       "        vertical-align: middle;\n",
       "    }\n",
       "\n",
       "    .dataframe tbody tr th {\n",
       "        vertical-align: top;\n",
       "    }\n",
       "\n",
       "    .dataframe thead th {\n",
       "        text-align: right;\n",
       "    }\n",
       "</style>\n",
       "<table border=\"1\" class=\"dataframe\">\n",
       "  <thead>\n",
       "    <tr style=\"text-align: right;\">\n",
       "      <th></th>\n",
       "      <th>Grade</th>\n",
       "      <th>Student ID</th>\n",
       "      <th>Gender</th>\n",
       "      <th>Birth date</th>\n",
       "      <th>Race</th>\n",
       "      <th>Zip</th>\n",
       "      <th>Lunch</th>\n",
       "      <th>ELL?</th>\n",
       "      <th>Idea?</th>\n",
       "      <th>Section 504?</th>\n",
       "      <th>Economic Disadvantage?</th>\n",
       "      <th>Is Homeless?</th>\n",
       "      <th>Title1?</th>\n",
       "      <th>Primary Parent Relationship</th>\n",
       "      <th>Dominant Language</th>\n",
       "      <th>GPA</th>\n",
       "    </tr>\n",
       "  </thead>\n",
       "  <tbody>\n",
       "    <tr>\n",
       "      <th>0</th>\n",
       "      <td>9</td>\n",
       "      <td>1001</td>\n",
       "      <td>M</td>\n",
       "      <td>2006</td>\n",
       "      <td>Hispanic/Latino</td>\n",
       "      <td>63116</td>\n",
       "      <td>U</td>\n",
       "      <td>Y</td>\n",
       "      <td>N</td>\n",
       "      <td>U</td>\n",
       "      <td>U</td>\n",
       "      <td>U</td>\n",
       "      <td>U</td>\n",
       "      <td>Mother, natural/adoptive</td>\n",
       "      <td>Spanish</td>\n",
       "      <td>NaN</td>\n",
       "    </tr>\n",
       "    <tr>\n",
       "      <th>49</th>\n",
       "      <td>6</td>\n",
       "      <td>1050</td>\n",
       "      <td>F</td>\n",
       "      <td>2010</td>\n",
       "      <td>Black or African American</td>\n",
       "      <td>63116</td>\n",
       "      <td>U</td>\n",
       "      <td>Y</td>\n",
       "      <td>N</td>\n",
       "      <td>U</td>\n",
       "      <td>U</td>\n",
       "      <td>U</td>\n",
       "      <td>U</td>\n",
       "      <td>Father, natural/adoptive</td>\n",
       "      <td>Tigrinya</td>\n",
       "      <td>NaN</td>\n",
       "    </tr>\n",
       "    <tr>\n",
       "      <th>50</th>\n",
       "      <td>8</td>\n",
       "      <td>1051</td>\n",
       "      <td>M</td>\n",
       "      <td>2007</td>\n",
       "      <td>Black or African American</td>\n",
       "      <td>63116</td>\n",
       "      <td>U</td>\n",
       "      <td>Y</td>\n",
       "      <td>N</td>\n",
       "      <td>U</td>\n",
       "      <td>U</td>\n",
       "      <td>U</td>\n",
       "      <td>U</td>\n",
       "      <td>Father, natural/adoptive</td>\n",
       "      <td>Tigringa</td>\n",
       "      <td>NaN</td>\n",
       "    </tr>\n",
       "    <tr>\n",
       "      <th>54</th>\n",
       "      <td>6</td>\n",
       "      <td>1055</td>\n",
       "      <td>M</td>\n",
       "      <td>2010</td>\n",
       "      <td>White</td>\n",
       "      <td>63116</td>\n",
       "      <td>U</td>\n",
       "      <td>Y</td>\n",
       "      <td>N</td>\n",
       "      <td>U</td>\n",
       "      <td>U</td>\n",
       "      <td>U</td>\n",
       "      <td>U</td>\n",
       "      <td>Father, natural/adoptive</td>\n",
       "      <td>English and Bosnian</td>\n",
       "      <td>NaN</td>\n",
       "    </tr>\n",
       "    <tr>\n",
       "      <th>157</th>\n",
       "      <td>6</td>\n",
       "      <td>1158</td>\n",
       "      <td>F</td>\n",
       "      <td>2010</td>\n",
       "      <td>Hispanic/Latino</td>\n",
       "      <td>63111</td>\n",
       "      <td>U</td>\n",
       "      <td>Y</td>\n",
       "      <td>Y</td>\n",
       "      <td>U</td>\n",
       "      <td>U</td>\n",
       "      <td>U</td>\n",
       "      <td>U</td>\n",
       "      <td>Mother, natural/adoptive</td>\n",
       "      <td>Spanish</td>\n",
       "      <td>NaN</td>\n",
       "    </tr>\n",
       "    <tr>\n",
       "      <th>185</th>\n",
       "      <td>6</td>\n",
       "      <td>1186</td>\n",
       "      <td>F</td>\n",
       "      <td>2009</td>\n",
       "      <td>White</td>\n",
       "      <td>63109</td>\n",
       "      <td>U</td>\n",
       "      <td>Y</td>\n",
       "      <td>N</td>\n",
       "      <td>N</td>\n",
       "      <td>Y</td>\n",
       "      <td>N</td>\n",
       "      <td>Y</td>\n",
       "      <td>Father, natural/adoptive</td>\n",
       "      <td>English</td>\n",
       "      <td>NaN</td>\n",
       "    </tr>\n",
       "    <tr>\n",
       "      <th>420</th>\n",
       "      <td>11</td>\n",
       "      <td>1421</td>\n",
       "      <td>M</td>\n",
       "      <td>2003</td>\n",
       "      <td>White</td>\n",
       "      <td>63139</td>\n",
       "      <td>U</td>\n",
       "      <td>Y</td>\n",
       "      <td>N</td>\n",
       "      <td>U</td>\n",
       "      <td>U</td>\n",
       "      <td>U</td>\n",
       "      <td>U</td>\n",
       "      <td>Mother, foster</td>\n",
       "      <td>English but first language Czech</td>\n",
       "      <td>NaN</td>\n",
       "    </tr>\n",
       "    <tr>\n",
       "      <th>567</th>\n",
       "      <td>7</td>\n",
       "      <td>1568</td>\n",
       "      <td>M</td>\n",
       "      <td>2009</td>\n",
       "      <td>Hispanic/Latino</td>\n",
       "      <td>63116</td>\n",
       "      <td>U</td>\n",
       "      <td>Y</td>\n",
       "      <td>N</td>\n",
       "      <td>U</td>\n",
       "      <td>U</td>\n",
       "      <td>U</td>\n",
       "      <td>U</td>\n",
       "      <td>Mother, natural/adoptive</td>\n",
       "      <td>English</td>\n",
       "      <td>NaN</td>\n",
       "    </tr>\n",
       "    <tr>\n",
       "      <th>664</th>\n",
       "      <td>6</td>\n",
       "      <td>1665</td>\n",
       "      <td>F</td>\n",
       "      <td>2009</td>\n",
       "      <td>White</td>\n",
       "      <td>63116</td>\n",
       "      <td>U</td>\n",
       "      <td>Y</td>\n",
       "      <td>N</td>\n",
       "      <td>U</td>\n",
       "      <td>U</td>\n",
       "      <td>U</td>\n",
       "      <td>U</td>\n",
       "      <td>Father, natural/adoptive</td>\n",
       "      <td>Croatian</td>\n",
       "      <td>NaN</td>\n",
       "    </tr>\n",
       "    <tr>\n",
       "      <th>678</th>\n",
       "      <td>6</td>\n",
       "      <td>1679</td>\n",
       "      <td>F</td>\n",
       "      <td>2010</td>\n",
       "      <td>Hispanic/Latino</td>\n",
       "      <td>63116</td>\n",
       "      <td>U</td>\n",
       "      <td>Y</td>\n",
       "      <td>N</td>\n",
       "      <td>U</td>\n",
       "      <td>U</td>\n",
       "      <td>U</td>\n",
       "      <td>U</td>\n",
       "      <td>Mother, natural/adoptive</td>\n",
       "      <td>Spanish</td>\n",
       "      <td>NaN</td>\n",
       "    </tr>\n",
       "  </tbody>\n",
       "</table>\n",
       "</div>"
      ],
      "text/plain": [
       "     Grade  Student ID Gender  Birth date                       Race    Zip  \\\n",
       "0        9        1001      M        2006            Hispanic/Latino  63116   \n",
       "49       6        1050      F        2010  Black or African American  63116   \n",
       "50       8        1051      M        2007  Black or African American  63116   \n",
       "54       6        1055      M        2010                      White  63116   \n",
       "157      6        1158      F        2010            Hispanic/Latino  63111   \n",
       "185      6        1186      F        2009                      White  63109   \n",
       "420     11        1421      M        2003                      White  63139   \n",
       "567      7        1568      M        2009            Hispanic/Latino  63116   \n",
       "664      6        1665      F        2009                      White  63116   \n",
       "678      6        1679      F        2010            Hispanic/Latino  63116   \n",
       "\n",
       "    Lunch ELL? Idea? Section 504? Economic Disadvantage? Is Homeless? Title1?  \\\n",
       "0       U    Y     N            U                      U            U       U   \n",
       "49      U    Y     N            U                      U            U       U   \n",
       "50      U    Y     N            U                      U            U       U   \n",
       "54      U    Y     N            U                      U            U       U   \n",
       "157     U    Y     Y            U                      U            U       U   \n",
       "185     U    Y     N            N                      Y            N       Y   \n",
       "420     U    Y     N            U                      U            U       U   \n",
       "567     U    Y     N            U                      U            U       U   \n",
       "664     U    Y     N            U                      U            U       U   \n",
       "678     U    Y     N            U                      U            U       U   \n",
       "\n",
       "    Primary Parent Relationship                 Dominant Language  GPA  \n",
       "0      Mother, natural/adoptive                           Spanish  NaN  \n",
       "49     Father, natural/adoptive                          Tigrinya  NaN  \n",
       "50     Father, natural/adoptive                          Tigringa  NaN  \n",
       "54     Father, natural/adoptive               English and Bosnian  NaN  \n",
       "157    Mother, natural/adoptive                           Spanish  NaN  \n",
       "185    Father, natural/adoptive                           English  NaN  \n",
       "420              Mother, foster  English but first language Czech  NaN  \n",
       "567    Mother, natural/adoptive                           English  NaN  \n",
       "664    Father, natural/adoptive                          Croatian  NaN  \n",
       "678    Mother, natural/adoptive                           Spanish  NaN  "
      ]
     },
     "execution_count": 17,
     "metadata": {},
     "output_type": "execute_result"
    }
   ],
   "source": [
    "# 'Y' is not in the description part. Maybe, it was for Yes some time ago but our that option is not available now.\n",
    "filt4 = df['ELL?'] == 'Y'\n",
    "df[filt4]"
   ]
  },
  {
   "cell_type": "markdown",
   "metadata": {},
   "source": [
    "Looking at other values, I decided that these students are ELL students"
   ]
  },
  {
   "cell_type": "code",
   "execution_count": 18,
   "metadata": {},
   "outputs": [
    {
     "data": {
      "text/html": [
       "<div>\n",
       "<style scoped>\n",
       "    .dataframe tbody tr th:only-of-type {\n",
       "        vertical-align: middle;\n",
       "    }\n",
       "\n",
       "    .dataframe tbody tr th {\n",
       "        vertical-align: top;\n",
       "    }\n",
       "\n",
       "    .dataframe thead th {\n",
       "        text-align: right;\n",
       "    }\n",
       "</style>\n",
       "<table border=\"1\" class=\"dataframe\">\n",
       "  <thead>\n",
       "    <tr style=\"text-align: right;\">\n",
       "      <th></th>\n",
       "      <th>Grade</th>\n",
       "      <th>Student ID</th>\n",
       "      <th>Gender</th>\n",
       "      <th>Birth date</th>\n",
       "      <th>Race</th>\n",
       "      <th>Zip</th>\n",
       "      <th>Lunch</th>\n",
       "      <th>ELL?</th>\n",
       "      <th>Idea?</th>\n",
       "      <th>Section 504?</th>\n",
       "      <th>Economic Disadvantage?</th>\n",
       "      <th>Is Homeless?</th>\n",
       "      <th>Title1?</th>\n",
       "      <th>Primary Parent Relationship</th>\n",
       "      <th>Dominant Language</th>\n",
       "      <th>GPA</th>\n",
       "    </tr>\n",
       "  </thead>\n",
       "  <tbody>\n",
       "    <tr>\n",
       "      <th>197</th>\n",
       "      <td>10</td>\n",
       "      <td>1198</td>\n",
       "      <td>F</td>\n",
       "      <td>2006</td>\n",
       "      <td>White</td>\n",
       "      <td>63116</td>\n",
       "      <td>F</td>\n",
       "      <td>M</td>\n",
       "      <td>N</td>\n",
       "      <td>N</td>\n",
       "      <td>N</td>\n",
       "      <td>N</td>\n",
       "      <td>Y</td>\n",
       "      <td>Mother, natural/adoptive</td>\n",
       "      <td>English</td>\n",
       "      <td>4.50</td>\n",
       "    </tr>\n",
       "    <tr>\n",
       "      <th>559</th>\n",
       "      <td>9</td>\n",
       "      <td>1560</td>\n",
       "      <td>M</td>\n",
       "      <td>2006</td>\n",
       "      <td>White</td>\n",
       "      <td>63123</td>\n",
       "      <td>P</td>\n",
       "      <td>M</td>\n",
       "      <td>N</td>\n",
       "      <td>N</td>\n",
       "      <td>N</td>\n",
       "      <td>N</td>\n",
       "      <td>Y</td>\n",
       "      <td>Mother, natural/adoptive</td>\n",
       "      <td>Turkish</td>\n",
       "      <td>3.74</td>\n",
       "    </tr>\n",
       "    <tr>\n",
       "      <th>637</th>\n",
       "      <td>9</td>\n",
       "      <td>1638</td>\n",
       "      <td>M</td>\n",
       "      <td>2007</td>\n",
       "      <td>White</td>\n",
       "      <td>63123</td>\n",
       "      <td>P</td>\n",
       "      <td>M</td>\n",
       "      <td>N</td>\n",
       "      <td>N</td>\n",
       "      <td>N</td>\n",
       "      <td>N</td>\n",
       "      <td>Y</td>\n",
       "      <td>Mother, natural/adoptive</td>\n",
       "      <td>NaN</td>\n",
       "      <td>3.41</td>\n",
       "    </tr>\n",
       "  </tbody>\n",
       "</table>\n",
       "</div>"
      ],
      "text/plain": [
       "     Grade  Student ID Gender  Birth date   Race    Zip Lunch ELL? Idea?  \\\n",
       "197     10        1198      F        2006  White  63116     F    M     N   \n",
       "559      9        1560      M        2006  White  63123     P    M     N   \n",
       "637      9        1638      M        2007  White  63123     P    M     N   \n",
       "\n",
       "    Section 504? Economic Disadvantage? Is Homeless? Title1?  \\\n",
       "197            N                      N            N       Y   \n",
       "559            N                      N            N       Y   \n",
       "637            N                      N            N       Y   \n",
       "\n",
       "    Primary Parent Relationship Dominant Language   GPA  \n",
       "197    Mother, natural/adoptive           English  4.50  \n",
       "559    Mother, natural/adoptive           Turkish  3.74  \n",
       "637    Mother, natural/adoptive               NaN  3.41  "
      ]
     },
     "execution_count": 18,
     "metadata": {},
     "output_type": "execute_result"
    }
   ],
   "source": [
    "# 'M' is not in the description part.\n",
    "filt5 = df['ELL?'] == 'M'\n",
    "df[filt5]"
   ]
  },
  {
   "cell_type": "markdown",
   "metadata": {},
   "source": [
    "Looking at other values, I decided that these students are ELL students"
   ]
  },
  {
   "cell_type": "code",
   "execution_count": 19,
   "metadata": {},
   "outputs": [
    {
     "name": "stderr",
     "output_type": "stream",
     "text": [
      "<ipython-input-19-d57fdad6626e>:3: SettingWithCopyWarning: \n",
      "A value is trying to be set on a copy of a slice from a DataFrame\n",
      "\n",
      "See the caveats in the documentation: https://pandas.pydata.org/pandas-docs/stable/user_guide/indexing.html#returning-a-view-versus-a-copy\n",
      "  df['ELL?'][filt_ell] = 'N'\n"
     ]
    },
    {
     "data": {
      "text/plain": [
       "N      577\n",
       "RCV     63\n",
       "MY2     13\n",
       "Y       10\n",
       "MY1      8\n",
       "AY3      5\n",
       "M        3\n",
       "AY4      1\n",
       "Name: ELL?, dtype: int64"
      ]
     },
     "execution_count": 19,
     "metadata": {},
     "output_type": "execute_result"
    }
   ],
   "source": [
    "# Unknown, 'U' is assumed to be non ELL\n",
    "filt_ell = df['ELL?'] == 'U'\n",
    "df['ELL?'][filt_ell] = 'N'\n",
    "df['ELL?'].value_counts()"
   ]
  },
  {
   "cell_type": "code",
   "execution_count": 20,
   "metadata": {},
   "outputs": [
    {
     "name": "stderr",
     "output_type": "stream",
     "text": [
      "<ipython-input-20-bd6a610ca447>:4: SettingWithCopyWarning: \n",
      "A value is trying to be set on a copy of a slice from a DataFrame\n",
      "\n",
      "See the caveats in the documentation: https://pandas.pydata.org/pandas-docs/stable/user_guide/indexing.html#returning-a-view-versus-a-copy\n",
      "  df['ELL?'][filt_ell_Y] = 'RCV'\n",
      "<ipython-input-20-bd6a610ca447>:5: SettingWithCopyWarning: \n",
      "A value is trying to be set on a copy of a slice from a DataFrame\n",
      "\n",
      "See the caveats in the documentation: https://pandas.pydata.org/pandas-docs/stable/user_guide/indexing.html#returning-a-view-versus-a-copy\n",
      "  df['ELL?'][filt_ell_M] = 'RCV'\n"
     ]
    },
    {
     "data": {
      "text/plain": [
       "N      577\n",
       "RCV     76\n",
       "MY2     13\n",
       "MY1      8\n",
       "AY3      5\n",
       "AY4      1\n",
       "Name: ELL?, dtype: int64"
      ]
     },
     "execution_count": 20,
     "metadata": {},
     "output_type": "execute_result"
    }
   ],
   "source": [
    "# 'Y' and 'M' are assumed to be ELL\n",
    "filt_ell_Y = df['ELL?'] == 'Y'\n",
    "filt_ell_M = df['ELL?'] == 'M'\n",
    "df['ELL?'][filt_ell_Y] = 'RCV'\n",
    "df['ELL?'][filt_ell_M] = 'RCV'\n",
    "df['ELL?'].value_counts()"
   ]
  },
  {
   "cell_type": "code",
   "execution_count": 21,
   "metadata": {},
   "outputs": [],
   "source": [
    "df = df.astype({'ELL?': str})"
   ]
  },
  {
   "cell_type": "code",
   "execution_count": 22,
   "metadata": {},
   "outputs": [
    {
     "data": {
      "text/plain": [
       "N      543\n",
       "NaN    115\n",
       "U       95\n",
       "Y       64\n",
       "Name: Idea?, dtype: int64"
      ]
     },
     "execution_count": 22,
     "metadata": {},
     "output_type": "execute_result"
    }
   ],
   "source": [
    "df['Idea?'].value_counts(dropna=False)"
   ]
  },
  {
   "cell_type": "markdown",
   "metadata": {},
   "source": [
    "I am going to assume that the unknown types are those with an Idea plan, since if they had one, it would be in the system. I am changing the unknowns into No's."
   ]
  },
  {
   "cell_type": "code",
   "execution_count": 23,
   "metadata": {},
   "outputs": [
    {
     "name": "stderr",
     "output_type": "stream",
     "text": [
      "<ipython-input-23-7d1179960fc6>:3: SettingWithCopyWarning: \n",
      "A value is trying to be set on a copy of a slice from a DataFrame\n",
      "\n",
      "See the caveats in the documentation: https://pandas.pydata.org/pandas-docs/stable/user_guide/indexing.html#returning-a-view-versus-a-copy\n",
      "  df['Idea?'][filt_idea] = 'N'\n",
      "<ipython-input-23-7d1179960fc6>:4: SettingWithCopyWarning: \n",
      "A value is trying to be set on a copy of a slice from a DataFrame\n",
      "\n",
      "See the caveats in the documentation: https://pandas.pydata.org/pandas-docs/stable/user_guide/indexing.html#returning-a-view-versus-a-copy\n",
      "  df['Idea?'][filt_idea_nan] = 'N'\n"
     ]
    },
    {
     "data": {
      "text/plain": [
       "N    638\n",
       "Y     64\n",
       "Name: Idea?, dtype: int64"
      ]
     },
     "execution_count": 23,
     "metadata": {},
     "output_type": "execute_result"
    }
   ],
   "source": [
    "filt_idea = df['Idea?'] == 'U'\n",
    "filt_idea_nan = df['Idea?'] == 'nan'\n",
    "df['Idea?'][filt_idea] = 'N'\n",
    "df['Idea?'][filt_idea_nan] = 'N'\n",
    "df['Idea?'].value_counts()"
   ]
  },
  {
   "cell_type": "code",
   "execution_count": 24,
   "metadata": {},
   "outputs": [],
   "source": [
    "df = df.astype({'Idea?': str})"
   ]
  },
  {
   "cell_type": "code",
   "execution_count": 25,
   "metadata": {},
   "outputs": [
    {
     "data": {
      "text/plain": [
       "N    561\n",
       "U    247\n",
       "Y      9\n",
       "Name: Section 504?, dtype: int64"
      ]
     },
     "execution_count": 25,
     "metadata": {},
     "output_type": "execute_result"
    }
   ],
   "source": [
    "df['Section 504?'].value_counts(dropna=False)"
   ]
  },
  {
   "cell_type": "code",
   "execution_count": 26,
   "metadata": {},
   "outputs": [
    {
     "name": "stderr",
     "output_type": "stream",
     "text": [
      "<ipython-input-26-c635275191cc>:2: SettingWithCopyWarning: \n",
      "A value is trying to be set on a copy of a slice from a DataFrame\n",
      "\n",
      "See the caveats in the documentation: https://pandas.pydata.org/pandas-docs/stable/user_guide/indexing.html#returning-a-view-versus-a-copy\n",
      "  df['Section 504?'][filt_504] = 'N'\n"
     ]
    }
   ],
   "source": [
    "filt_504 = df['Section 504?'] == 'U'\n",
    "df['Section 504?'][filt_504] = 'N'"
   ]
  },
  {
   "cell_type": "code",
   "execution_count": 27,
   "metadata": {},
   "outputs": [
    {
     "data": {
      "text/plain": [
       "Text(0.5, 1.0, 'Section 504?')"
      ]
     },
     "execution_count": 27,
     "metadata": {},
     "output_type": "execute_result"
    },
    {
     "data": {
      "image/png": "[encoded data removed]",
      "text/plain": [
       "<Figure size 720x360 with 8 Axes>"
      ]
     },
     "metadata": {
      "needs_background": "light"
     },
     "output_type": "display_data"
    }
   ],
   "source": [
    "plt.figure(figsize=[10,5], tight_layout=True)\n",
    "\n",
    "plt.subplot(4,2,1)\n",
    "plt.hist(df['Economic Disadvantage?'])\n",
    "plt.title('Economically Disadvantaged?')\n",
    "\n",
    "plt.subplot(4,2,2)\n",
    "plt.hist(df['Lunch'])\n",
    "plt.title('Lunch')\n",
    "\n",
    "plt.subplot(4,2,3)\n",
    "plt.hist(df['Is Homeless?'])\n",
    "plt.title('Is Homeless?')\n",
    "\n",
    "plt.subplot(4,2,4)\n",
    "plt.hist(df['Title1?'])\n",
    "plt.title('Title 1?')\n",
    "\n",
    "plt.subplot(4,2,5)\n",
    "plt.hist(df['Lunch'])\n",
    "plt.title('Lunch')\n",
    "\n",
    "plt.subplot(4,2,6)\n",
    "plt.hist(df['ELL?'])\n",
    "plt.title('ELL ?')\n",
    "\n",
    "plt.subplot(4,2,7)\n",
    "plt.hist(df['Idea?'])\n",
    "plt.title('Idea ?')\n",
    "\n",
    "plt.subplot(4,2,8)\n",
    "plt.hist(df['Section 504?'])\n",
    "plt.title('Section 504?')"
   ]
  },
  {
   "cell_type": "markdown",
   "metadata": {},
   "source": [
    "There only a few more variables left to think about. These are homelessness, being economically disadvantaged, lunch, title 1. In all these cases I will assume the unknowns are No's."
   ]
  },
  {
   "cell_type": "code",
   "execution_count": 28,
   "metadata": {},
   "outputs": [
    {
     "name": "stdout",
     "output_type": "stream",
     "text": [
      "N    553\n",
      "U    251\n",
      "Y     13\n",
      "Name: Is Homeless?, dtype: int64\n",
      "N    400\n",
      "U    257\n",
      "Y    160\n",
      "Name: Economic Disadvantage?, dtype: int64\n",
      "P    375\n",
      "F    303\n",
      "U     92\n",
      "R     47\n",
      "Name: Lunch, dtype: int64\n",
      "Y    448\n",
      "U    226\n",
      "N    143\n",
      "Name: Title1?, dtype: int64\n"
     ]
    }
   ],
   "source": [
    "print(df['Is Homeless?'].value_counts(dropna=False))\n",
    "print(df['Economic Disadvantage?'].value_counts(dropna=False))\n",
    "print(df['Lunch'].value_counts(dropna=False))\n",
    "print(df['Title1?'].value_counts(dropna=False))"
   ]
  },
  {
   "cell_type": "code",
   "execution_count": 29,
   "metadata": {},
   "outputs": [
    {
     "name": "stderr",
     "output_type": "stream",
     "text": [
      "<ipython-input-29-703a82c9c3e6>:2: SettingWithCopyWarning: \n",
      "A value is trying to be set on a copy of a slice from a DataFrame\n",
      "\n",
      "See the caveats in the documentation: https://pandas.pydata.org/pandas-docs/stable/user_guide/indexing.html#returning-a-view-versus-a-copy\n",
      "  df['Is Homeless?'][filt_homeless] = 'N'\n",
      "<ipython-input-29-703a82c9c3e6>:5: SettingWithCopyWarning: \n",
      "A value is trying to be set on a copy of a slice from a DataFrame\n",
      "\n",
      "See the caveats in the documentation: https://pandas.pydata.org/pandas-docs/stable/user_guide/indexing.html#returning-a-view-versus-a-copy\n",
      "  df['Economic Disadvantage?'][filt_ed] = 'N'\n",
      "<ipython-input-29-703a82c9c3e6>:8: SettingWithCopyWarning: \n",
      "A value is trying to be set on a copy of a slice from a DataFrame\n",
      "\n",
      "See the caveats in the documentation: https://pandas.pydata.org/pandas-docs/stable/user_guide/indexing.html#returning-a-view-versus-a-copy\n",
      "  df['Lunch'][filt_lunch] = 'P'\n",
      "<ipython-input-29-703a82c9c3e6>:11: SettingWithCopyWarning: \n",
      "A value is trying to be set on a copy of a slice from a DataFrame\n",
      "\n",
      "See the caveats in the documentation: https://pandas.pydata.org/pandas-docs/stable/user_guide/indexing.html#returning-a-view-versus-a-copy\n",
      "  df['Title1?'][filt_title1] = 'N'\n"
     ]
    }
   ],
   "source": [
    "filt_homeless = df['Is Homeless?'] == 'U'\n",
    "df['Is Homeless?'][filt_homeless] = 'N'\n",
    "\n",
    "filt_ed = df['Economic Disadvantage?'] == 'U'\n",
    "df['Economic Disadvantage?'][filt_ed] = 'N'\n",
    "\n",
    "filt_lunch = df['Lunch'] == 'U'\n",
    "df['Lunch'][filt_lunch] = 'P'\n",
    "\n",
    "filt_title1 = df['Title1?'] == 'U'\n",
    "df['Title1?'][filt_title1] = 'N'"
   ]
  },
  {
   "cell_type": "code",
   "execution_count": 30,
   "metadata": {},
   "outputs": [
    {
     "name": "stdout",
     "output_type": "stream",
     "text": [
      "N    804\n",
      "Y     13\n",
      "Name: Is Homeless?, dtype: int64\n",
      "N    657\n",
      "Y    160\n",
      "Name: Economic Disadvantage?, dtype: int64\n",
      "P    467\n",
      "F    303\n",
      "R     47\n",
      "Name: Lunch, dtype: int64\n",
      "Y    448\n",
      "N    369\n",
      "Name: Title1?, dtype: int64\n"
     ]
    }
   ],
   "source": [
    "print(df['Is Homeless?'].value_counts(dropna=False))\n",
    "print(df['Economic Disadvantage?'].value_counts(dropna=False))\n",
    "print(df['Lunch'].value_counts(dropna=False))\n",
    "print(df['Title1?'].value_counts(dropna=False))"
   ]
  },
  {
   "cell_type": "code",
   "execution_count": 31,
   "metadata": {},
   "outputs": [
    {
     "data": {
      "text/plain": [
       "Index(['Grade', 'Student ID', 'Gender', 'Birth date', 'Race', 'Zip', 'Lunch',\n",
       "       'ELL?', 'Idea?', 'Section 504?', 'Economic Disadvantage?',\n",
       "       'Is Homeless?', 'Title1?', 'Primary Parent Relationship',\n",
       "       'Dominant Language', 'GPA'],\n",
       "      dtype='object')"
      ]
     },
     "execution_count": 31,
     "metadata": {},
     "output_type": "execute_result"
    }
   ],
   "source": [
    "df.columns"
   ]
  },
  {
   "cell_type": "code",
   "execution_count": 32,
   "metadata": {},
   "outputs": [
    {
     "data": {
      "text/plain": [
       "Grade                            int64\n",
       "Student ID                       int64\n",
       "Gender                          object\n",
       "Birth date                       int64\n",
       "Race                            object\n",
       "Zip                             object\n",
       "Lunch                           object\n",
       "ELL?                            object\n",
       "Idea?                           object\n",
       "Section 504?                    object\n",
       "Economic Disadvantage?          object\n",
       "Is Homeless?                    object\n",
       "Title1?                         object\n",
       "Primary Parent Relationship     object\n",
       "Dominant Language               object\n",
       "GPA                            float64\n",
       "dtype: object"
      ]
     },
     "execution_count": 32,
     "metadata": {},
     "output_type": "execute_result"
    }
   ],
   "source": [
    "df.dtypes"
   ]
  },
  {
   "cell_type": "markdown",
   "metadata": {},
   "source": [
    "As it can be seen here, most of the columns are objects. We need to convert them to right categories."
   ]
  },
  {
   "cell_type": "code",
   "execution_count": 33,
   "metadata": {},
   "outputs": [],
   "source": [
    "df = df.astype({'Dominant Language': str})"
   ]
  },
  {
   "cell_type": "code",
   "execution_count": 34,
   "metadata": {},
   "outputs": [
    {
     "data": {
      "text/plain": [
       "nan                                 510\n",
       "English                             187\n",
       "Spanish                              26\n",
       "Turkish                              23\n",
       "Bosnian                              16\n",
       "Arabic                               12\n",
       "Vietnamese                           10\n",
       "english                               4\n",
       "English/Bosnian                       3\n",
       "Albanian                              3\n",
       "Tigrinya                              2\n",
       "Laotion, Khmer                        2\n",
       "German                                1\n",
       "Filipino                              1\n",
       "Dari/ Persian                         1\n",
       "English/French                        1\n",
       "Dari                                  1\n",
       "Uzbek                                 1\n",
       "Tigringa                              1\n",
       "English and Bosnian                   1\n",
       "Croatian                              1\n",
       "Engilsh                               1\n",
       "Grebo/Liberia                         1\n",
       "English but first language Czech      1\n",
       "English/ Bosnian                      1\n",
       "Bosnian/Other                         1\n",
       "Somali                                1\n",
       "Romani                                1\n",
       "Spanish/English                       1\n",
       "Persian                               1\n",
       "Dari/Persian                          1\n",
       "Name: Dominant Language, dtype: int64"
      ]
     },
     "execution_count": 34,
     "metadata": {},
     "output_type": "execute_result"
    }
   ],
   "source": [
    "df['Dominant Language'].value_counts()"
   ]
  },
  {
   "cell_type": "code",
   "execution_count": 35,
   "metadata": {},
   "outputs": [
    {
     "name": "stderr",
     "output_type": "stream",
     "text": [
      "<ipython-input-35-bbdf5a662517>:3: SettingWithCopyWarning: \n",
      "A value is trying to be set on a copy of a slice from a DataFrame\n",
      "\n",
      "See the caveats in the documentation: https://pandas.pydata.org/pandas-docs/stable/user_guide/indexing.html#returning-a-view-versus-a-copy\n",
      "  df['Dominant Language'][filt_dl] = 'English'\n"
     ]
    },
    {
     "data": {
      "text/plain": [
       "English                             697\n",
       "Spanish                              26\n",
       "Turkish                              23\n",
       "Bosnian                              16\n",
       "Arabic                               12\n",
       "Vietnamese                           10\n",
       "english                               4\n",
       "English/Bosnian                       3\n",
       "Albanian                              3\n",
       "Tigrinya                              2\n",
       "Laotion, Khmer                        2\n",
       "German                                1\n",
       "Filipino                              1\n",
       "Dari/ Persian                         1\n",
       "English/French                        1\n",
       "Dari                                  1\n",
       "Uzbek                                 1\n",
       "Tigringa                              1\n",
       "English and Bosnian                   1\n",
       "Engilsh                               1\n",
       "Grebo/Liberia                         1\n",
       "English but first language Czech      1\n",
       "English/ Bosnian                      1\n",
       "Bosnian/Other                         1\n",
       "Somali                                1\n",
       "Romani                                1\n",
       "Croatian                              1\n",
       "Spanish/English                       1\n",
       "Persian                               1\n",
       "Dari/Persian                          1\n",
       "Name: Dominant Language, dtype: int64"
      ]
     },
     "execution_count": 35,
     "metadata": {},
     "output_type": "execute_result"
    }
   ],
   "source": [
    "# We know that all the nan values are actually English.\n",
    "filt_dl = df['Dominant Language'] == 'nan'\n",
    "df['Dominant Language'][filt_dl] = 'English'\n",
    "df['Dominant Language'].value_counts(dropna=False)"
   ]
  },
  {
   "cell_type": "code",
   "execution_count": 36,
   "metadata": {
    "scrolled": true
   },
   "outputs": [
    {
     "data": {
      "image/png": "[encoded data removed]",
      "text/plain": [
       "<Figure size 432x288 with 1 Axes>"
      ]
     },
     "metadata": {
      "needs_background": "light"
     },
     "output_type": "display_data"
    }
   ],
   "source": [
    "plt.hist(df['Dominant Language'], width=0.8)\n",
    "# plt.autoscale(enable=True, axis='x', tight=True)\n",
    "plt.xticks(rotation=90);"
   ]
  },
  {
   "cell_type": "code",
   "execution_count": 37,
   "metadata": {},
   "outputs": [
    {
     "data": {
      "text/plain": [
       "Grade                            0\n",
       "Student ID                       0\n",
       "Gender                           0\n",
       "Birth date                       0\n",
       "Race                             0\n",
       "Zip                              0\n",
       "Lunch                            0\n",
       "ELL?                             0\n",
       "Idea?                            0\n",
       "Section 504?                     0\n",
       "Economic Disadvantage?           0\n",
       "Is Homeless?                     0\n",
       "Title1?                          0\n",
       "Primary Parent Relationship      0\n",
       "Dominant Language                0\n",
       "GPA                            212\n",
       "dtype: int64"
      ]
     },
     "execution_count": 37,
     "metadata": {},
     "output_type": "execute_result"
    }
   ],
   "source": [
    "df.isna().sum()"
   ]
  },
  {
   "cell_type": "markdown",
   "metadata": {},
   "source": [
    "Now, this looks much better with no missing values, but the GPAs. It could be possible to find GPAs for those who are missing it but it requires going back to their previous records which is not going to be something we do now."
   ]
  },
  {
   "cell_type": "code",
   "execution_count": 38,
   "metadata": {},
   "outputs": [
    {
     "data": {
      "text/plain": [
       "(817, 16)"
      ]
     },
     "execution_count": 38,
     "metadata": {},
     "output_type": "execute_result"
    }
   ],
   "source": [
    "df.shape"
   ]
  },
  {
   "cell_type": "code",
   "execution_count": 39,
   "metadata": {},
   "outputs": [
    {
     "data": {
      "text/plain": [
       "Grade                            int64\n",
       "Student ID                       int64\n",
       "Gender                          object\n",
       "Birth date                       int64\n",
       "Race                            object\n",
       "Zip                             object\n",
       "Lunch                           object\n",
       "ELL?                            object\n",
       "Idea?                           object\n",
       "Section 504?                    object\n",
       "Economic Disadvantage?          object\n",
       "Is Homeless?                    object\n",
       "Title1?                         object\n",
       "Primary Parent Relationship     object\n",
       "Dominant Language               object\n",
       "GPA                            float64\n",
       "dtype: object"
      ]
     },
     "execution_count": 39,
     "metadata": {},
     "output_type": "execute_result"
    }
   ],
   "source": [
    "df.dtypes"
   ]
  },
  {
   "cell_type": "markdown",
   "metadata": {},
   "source": [
    "## More data prep"
   ]
  },
  {
   "cell_type": "code",
   "execution_count": 40,
   "metadata": {},
   "outputs": [
    {
     "data": {
      "text/plain": [
       "63116         216\n",
       "63139         161\n",
       "63109         132\n",
       "63111          73\n",
       "63123          62\n",
       "63118          43\n",
       "63110          31\n",
       "63125          19\n",
       "63104          14\n",
       "63143          13\n",
       "63113           6\n",
       "63106           5\n",
       "63107           5\n",
       "63112           5\n",
       "63115           5\n",
       "63119           3\n",
       "63105           3\n",
       "63108           3\n",
       "63031           2\n",
       "63111-1130      2\n",
       "63129           2\n",
       "63025           1\n",
       "63147           1\n",
       "63120           1\n",
       "63139-1541      1\n",
       "63088           1\n",
       "63128           1\n",
       "63129-4325      1\n",
       "63074           1\n",
       "63133           1\n",
       "63135           1\n",
       "63136           1\n",
       "63116-2307      1\n",
       "Name: Zip, dtype: int64"
      ]
     },
     "execution_count": 40,
     "metadata": {},
     "output_type": "execute_result"
    }
   ],
   "source": [
    "# zip code is a variable that needs some processing.\n",
    "df['Zip'].value_counts()"
   ]
  },
  {
   "cell_type": "markdown",
   "metadata": {},
   "source": [
    "Some zip codes of extensions and we have to remove those extensions first."
   ]
  },
  {
   "cell_type": "code",
   "execution_count": 41,
   "metadata": {},
   "outputs": [],
   "source": [
    "df = df.astype({'Zip': str})"
   ]
  },
  {
   "cell_type": "code",
   "execution_count": 42,
   "metadata": {},
   "outputs": [
    {
     "data": {
      "text/plain": [
       "63116    217\n",
       "63139    162\n",
       "63109    132\n",
       "63111     75\n",
       "63123     62\n",
       "63118     43\n",
       "63110     31\n",
       "63125     19\n",
       "63104     14\n",
       "63143     13\n",
       "63113      6\n",
       "63107      5\n",
       "63112      5\n",
       "63115      5\n",
       "63106      5\n",
       "63105      3\n",
       "63108      3\n",
       "63119      3\n",
       "63129      3\n",
       "63031      2\n",
       "63133      1\n",
       "63135      1\n",
       "63128      1\n",
       "63088      1\n",
       "63025      1\n",
       "63074      1\n",
       "63147      1\n",
       "63120      1\n",
       "63136      1\n",
       "Name: Zip, dtype: int64"
      ]
     },
     "execution_count": 42,
     "metadata": {},
     "output_type": "execute_result"
    }
   ],
   "source": [
    "df['Zip'] = df['Zip'].str[0:5]\n",
    "df['Zip'].value_counts(dropna=False)"
   ]
  },
  {
   "cell_type": "code",
   "execution_count": 43,
   "metadata": {},
   "outputs": [],
   "source": [
    "df = df.astype({'Zip': int})"
   ]
  },
  {
   "cell_type": "markdown",
   "metadata": {},
   "source": [
    "## Encoding Categorical Data"
   ]
  },
  {
   "cell_type": "code",
   "execution_count": 44,
   "metadata": {},
   "outputs": [],
   "source": [
    "import seaborn as sns\n",
    "import numpy as np"
   ]
  },
  {
   "cell_type": "code",
   "execution_count": 45,
   "metadata": {},
   "outputs": [
    {
     "data": {
      "text/plain": [
       "Index(['Grade', 'Student ID', 'Gender', 'Birth date', 'Race', 'Zip', 'Lunch',\n",
       "       'ELL?', 'Idea?', 'Section 504?', 'Economic Disadvantage?',\n",
       "       'Is Homeless?', 'Title1?', 'Primary Parent Relationship',\n",
       "       'Dominant Language', 'GPA'],\n",
       "      dtype='object')"
      ]
     },
     "execution_count": 45,
     "metadata": {},
     "output_type": "execute_result"
    }
   ],
   "source": [
    "df.columns"
   ]
  },
  {
   "cell_type": "markdown",
   "metadata": {},
   "source": [
    "We will not use grade and student id in the analysis. Gender, race, lunch, ell, idea, section 504, economic disadvantage, homelessness, title 1, primary parent relationship and dominant language are all categorical variables which will be converted using LabelEncoder. GPA will be the target variable."
   ]
  },
  {
   "cell_type": "code",
   "execution_count": 46,
   "metadata": {},
   "outputs": [],
   "source": [
    "from sklearn.preprocessing import LabelEncoder"
   ]
  },
  {
   "cell_type": "code",
   "execution_count": 47,
   "metadata": {},
   "outputs": [],
   "source": [
    "le_gender = LabelEncoder()\n",
    "le_race = LabelEncoder()\n",
    "le_lunch = LabelEncoder()\n",
    "le_ell = LabelEncoder()\n",
    "le_idea = LabelEncoder()\n",
    "le_sect504 = LabelEncoder()\n",
    "le_ecdis = LabelEncoder()\n",
    "le_homeless = LabelEncoder()\n",
    "le_title1 = LabelEncoder()\n",
    "le_primparent = LabelEncoder()\n",
    "le_domlang = LabelEncoder()\n",
    "le_zip = LabelEncoder()"
   ]
  },
  {
   "cell_type": "code",
   "execution_count": 48,
   "metadata": {},
   "outputs": [],
   "source": [
    "df['gender'] = le_gender.fit_transform(df['Gender'])\n",
    "df['race'] = le_race.fit_transform(df['Race'])\n",
    "df['lunch'] = le_lunch.fit_transform(df['Lunch'])\n",
    "df['ell'] = le_ell.fit_transform(df['ELL?'])\n",
    "df['idea'] = le_idea.fit_transform(df['Idea?'])\n",
    "df['sect504'] = le_sect504.fit_transform(df['Section 504?'])\n",
    "df['ecdis'] = le_ecdis.fit_transform(df['Economic Disadvantage?'])\n",
    "df['homeless'] = le_homeless.fit_transform(df['Is Homeless?'])\n",
    "df['title1'] = le_title1.fit_transform(df['Title1?'])\n",
    "df['primparent'] = le_primparent.fit_transform(df['Primary Parent Relationship'])\n",
    "df['domlang'] = le_domlang.fit_transform(df['Dominant Language'])\n",
    "df['zip'] = le_zip.fit_transform(df['Zip'])"
   ]
  },
  {
   "cell_type": "code",
   "execution_count": 49,
   "metadata": {},
   "outputs": [
    {
     "data": {
      "text/plain": [
       "Index(['Grade', 'Student ID', 'Birth date', 'GPA', 'gender', 'race', 'lunch',\n",
       "       'ell', 'idea', 'sect504', 'ecdis', 'homeless', 'title1', 'primparent',\n",
       "       'domlang', 'zip'],\n",
       "      dtype='object')"
      ]
     },
     "execution_count": 49,
     "metadata": {},
     "output_type": "execute_result"
    }
   ],
   "source": [
    "df.drop(columns=['Gender', 'Race', 'Lunch', 'ELL?', 'Idea?', 'Section 504?', 'Economic Disadvantage?', 'Is Homeless?', 'Title1?', 'Primary Parent Relationship', 'Dominant Language', 'Zip'], inplace=True)\n",
    "df.columns"
   ]
  },
  {
   "cell_type": "markdown",
   "metadata": {},
   "source": [
    "# Correlation Analysis"
   ]
  },
  {
   "cell_type": "code",
   "execution_count": 50,
   "metadata": {},
   "outputs": [
    {
     "data": {
      "text/plain": [
       "<matplotlib.axes._subplots.AxesSubplot at 0x7ffc46f6a520>"
      ]
     },
     "execution_count": 50,
     "metadata": {},
     "output_type": "execute_result"
    },
    {
     "data": {
      "image/png": "[encoded data removed]",
      "text/plain": [
       "<Figure size 792x648 with 2 Axes>"
      ]
     },
     "metadata": {
      "needs_background": "light"
     },
     "output_type": "display_data"
    }
   ],
   "source": [
    "corr = df.corr()\n",
    "mask = np.triu(np.ones_like(corr, dtype=bool))\n",
    "f, ax = plt.subplots(figsize=(11,9))\n",
    "cmap = sns.diverging_palette(230,20, as_cmap=True)\n",
    "sns.heatmap(corr, mask=mask, cmap=cmap, vmax=.3, center=0, square=True, linewidths=.5, cbar_kws={'shrink': .5})"
   ]
  },
  {
   "cell_type": "code",
   "execution_count": 51,
   "metadata": {},
   "outputs": [
    {
     "name": "stdout",
     "output_type": "stream",
     "text": [
      "<class 'pandas.core.series.Series'>\n",
      "idea    ell       0.686560\n",
      "ell     idea      0.686560\n",
      "title1  ecdis     0.311521\n",
      "ecdis   title1    0.311521\n",
      "GPA     lunch     0.269594\n",
      "lunch   GPA       0.269594\n",
      "dtype: float64\n",
      "idea        title1       -0.262000\n",
      "title1      idea         -0.262000\n",
      "lunch       ecdis        -0.299849\n",
      "ecdis       lunch        -0.299849\n",
      "Birth date  Grade        -0.952537\n",
      "Grade       Birth date   -0.952537\n",
      "dtype: float64\n"
     ]
    }
   ],
   "source": [
    "k = corr.unstack().sort_values(kind='quicksort', ascending=False)\n",
    "print(type(k))\n",
    "k2 = k[k!=1]\n",
    "print(k2.head(6))\n",
    "print(k2.tail(6))"
   ]
  },
  {
   "cell_type": "markdown",
   "metadata": {},
   "source": [
    "As expected, there is a positive correlation between students receiving ell and special services."
   ]
  },
  {
   "cell_type": "markdown",
   "metadata": {},
   "source": [
    "## Linear Regression"
   ]
  },
  {
   "cell_type": "code",
   "execution_count": 52,
   "metadata": {},
   "outputs": [],
   "source": [
    "from sklearn.linear_model import LinearRegression"
   ]
  },
  {
   "cell_type": "code",
   "execution_count": 53,
   "metadata": {},
   "outputs": [
    {
     "data": {
      "text/plain": [
       "Index(['Grade', 'Student ID', 'Birth date', 'GPA', 'gender', 'race', 'lunch',\n",
       "       'ell', 'idea', 'sect504', 'ecdis', 'homeless', 'title1', 'primparent',\n",
       "       'domlang', 'zip'],\n",
       "      dtype='object')"
      ]
     },
     "execution_count": 53,
     "metadata": {},
     "output_type": "execute_result"
    }
   ],
   "source": [
    "df.columns"
   ]
  },
  {
   "cell_type": "code",
   "execution_count": 62,
   "metadata": {},
   "outputs": [
    {
     "name": "stdout",
     "output_type": "stream",
     "text": [
      "   Grade  Student ID  Birth date   GPA  gender  race  lunch  ell  idea  \\\n",
      "0      9        1001        2006   NaN       1     3      1    5     0   \n",
      "1      9        1002        2007  2.98       0     2      0    3     0   \n",
      "2      9        1003        2007   NaN       1     6      1    4     0   \n",
      "3      9        1004        2006   NaN       1     2      1    4     1   \n",
      "4      8        1005        2007   NaN       1     6      1    4     0   \n",
      "\n",
      "   sect504  ecdis  homeless  title1  primparent  domlang  zip  \n",
      "0        0      0         0       0          10       22   15  \n",
      "1        0      0         0       0          10       21    6  \n",
      "2        0      0         0       0           5        1    9  \n",
      "3        0      0         0       0          10        9   15  \n",
      "4        0      0         0       0          10        9    9  \n",
      "(817, 16)\n"
     ]
    }
   ],
   "source": [
    "print(df.head())\n",
    "print(df.shape)"
   ]
  },
  {
   "cell_type": "markdown",
   "metadata": {},
   "source": [
    "The last edit we need is the NaN values in GPA. Not all students have GPA values."
   ]
  },
  {
   "cell_type": "code",
   "execution_count": 63,
   "metadata": {},
   "outputs": [
    {
     "name": "stdout",
     "output_type": "stream",
     "text": [
      "   Grade  Student ID  Birth date   GPA  gender  race  lunch  ell  idea  \\\n",
      "1      9        1002        2007  2.98       0     2      0    3     0   \n",
      "5      8        1006        2008  2.18       1     6      1    4     0   \n",
      "6     12        1007        2004  0.73       1     4      1    4     0   \n",
      "7      9        1008        2007  1.38       1     4      1    4     0   \n",
      "8      9        1009        2003  0.33       1     4      0    4     1   \n",
      "\n",
      "   sect504  ecdis  homeless  title1  primparent  domlang  zip  \n",
      "1        0      0         0       0          10       21    6  \n",
      "5        0      0         0       0          10        9   26  \n",
      "6        0      0         0       1          10        9   26  \n",
      "7        0      0         0       1          10        9   26  \n",
      "8        0      0         0       0          10        9    9  \n",
      "(605, 16)\n"
     ]
    }
   ],
   "source": [
    "filt_gpa = ~df['GPA'].isna()\n",
    "df2 = df[filt_gpa]\n",
    "print(df2.head())\n",
    "print(df2.shape)"
   ]
  },
  {
   "cell_type": "markdown",
   "metadata": {},
   "source": [
    "We lost some data but not much. This is the best we can do as of now."
   ]
  },
  {
   "cell_type": "code",
   "execution_count": 64,
   "metadata": {},
   "outputs": [],
   "source": [
    "y = df2['GPA']\n",
    "X = df2.drop(['GPA', 'Grade', 'Student ID'], axis='columns')"
   ]
  },
  {
   "cell_type": "code",
   "execution_count": 65,
   "metadata": {},
   "outputs": [],
   "source": [
    "model_LR = LinearRegression()"
   ]
  },
  {
   "cell_type": "code",
   "execution_count": 66,
   "metadata": {},
   "outputs": [
    {
     "data": {
      "text/plain": [
       "LinearRegression()"
      ]
     },
     "execution_count": 66,
     "metadata": {},
     "output_type": "execute_result"
    }
   ],
   "source": [
    "model_LR.fit(X, y)"
   ]
  },
  {
   "cell_type": "code",
   "execution_count": 67,
   "metadata": {},
   "outputs": [
    {
     "name": "stdout",
     "output_type": "stream",
     "text": [
      "The coefficient of determination is  0.13215923598226043\n"
     ]
    }
   ],
   "source": [
    "r_sq = model_LR.score(X, y)\n",
    "print('The coefficient of determination is ', r_sq)"
   ]
  },
  {
   "cell_type": "markdown",
   "metadata": {},
   "source": [
    "Wow, this is an extremely poor fit. Actually, there is no fit at all."
   ]
  },
  {
   "cell_type": "markdown",
   "metadata": {},
   "source": [
    "# Conclusion\n",
    "This was an initial investigation into what can be done with student data. I was planning to do Random Forest analysis but with such a low fit in Linear Regression, I believe I should improve my model with optaining new data. Many of the variables I used are useful in understanding students but still not enough to explain their GPA."
   ]
  }
 ],
 "metadata": {
  "kernelspec": {
   "display_name": "Python 3",
   "language": "python",
   "name": "python3"
  },
  "language_info": {
   "codemirror_mode": {
    "name": "ipython",
    "version": 3
   },
   "file_extension": ".py",
   "mimetype": "text/x-python",
   "name": "python",
   "nbconvert_exporter": "python",
   "pygments_lexer": "ipython3",
   "version": "3.8.3"
  }
 },
 "nbformat": 4,
 "nbformat_minor": 4
}
